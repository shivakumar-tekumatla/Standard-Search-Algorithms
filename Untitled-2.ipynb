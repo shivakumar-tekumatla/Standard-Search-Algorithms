{
 "cells": [
  {
   "cell_type": "code",
   "execution_count": 6,
   "metadata": {},
   "outputs": [
    {
     "ename": "UnboundLocalError",
     "evalue": "local variable 'mm' referenced before assignment",
     "output_type": "error",
     "traceback": [
      "\u001b[0;31m---------------------------------------------------------------------------\u001b[0m",
      "\u001b[0;31mUnboundLocalError\u001b[0m                         Traceback (most recent call last)",
      "\u001b[1;32mUntitled-2.ipynb Cell 1'\u001b[0m in \u001b[0;36m<cell line: 2>\u001b[0;34m()\u001b[0m\n\u001b[1;32m      <a href='vscode-notebook-cell:Untitled-2.ipynb?jupyter-notebook#ch0000001untitled?line=0'>1</a>\u001b[0m \u001b[39mfrom\u001b[39;00m \u001b[39mbresenham\u001b[39;00m \u001b[39mimport\u001b[39;00m bresenham\n\u001b[0;32m----> <a href='vscode-notebook-cell:Untitled-2.ipynb?jupyter-notebook#ch0000001untitled?line=1'>2</a>\u001b[0m bresenham([\u001b[39m1\u001b[39;49m,\u001b[39m4\u001b[39;49m],[\u001b[39m3\u001b[39;49m,\u001b[39m2\u001b[39;49m])\n",
      "File \u001b[0;32m~/Desktop/Shiva/WPI/Course Work/RBE 550 Motion Planning/Standard Search Algorithms/bresenham.py:52\u001b[0m, in \u001b[0;36mbresenham\u001b[0;34m(start, end)\u001b[0m\n\u001b[1;32m     <a href='file:///~/Desktop/Shiva/WPI/Course%20Work/RBE%20550%20Motion%20Planning/Standard%20Search%20Algorithms/bresenham.py?line=48'>49</a>\u001b[0m p \u001b[39m=\u001b[39m p_previous \u001b[39m+\u001b[39m \u001b[39m2\u001b[39m\u001b[39m*\u001b[39mdx \u001b[39m-\u001b[39m\u001b[39m2\u001b[39m\u001b[39m*\u001b[39mdy\u001b[39m*\u001b[39m(\u001b[39mabs\u001b[39m(x\u001b[39m-\u001b[39mx_previous))\n\u001b[1;32m     <a href='file:///~/Desktop/Shiva/WPI/Course%20Work/RBE%20550%20Motion%20Planning/Standard%20Search%20Algorithms/bresenham.py?line=49'>50</a>\u001b[0m y \u001b[39m=\u001b[39m y \u001b[39m+\u001b[39m \u001b[39m1\u001b[39m\n\u001b[0;32m---> <a href='file:///~/Desktop/Shiva/WPI/Course%20Work/RBE%20550%20Motion%20Planning/Standard%20Search%20Algorithms/bresenham.py?line=51'>52</a>\u001b[0m \u001b[39mif\u001b[39;00m mm:\n\u001b[1;32m     <a href='file:///~/Desktop/Shiva/WPI/Course%20Work/RBE%20550%20Motion%20Planning/Standard%20Search%20Algorithms/bresenham.py?line=52'>53</a>\u001b[0m     line_pixel\u001b[39m.\u001b[39mappend((y,x))\n\u001b[1;32m     <a href='file:///~/Desktop/Shiva/WPI/Course%20Work/RBE%20550%20Motion%20Planning/Standard%20Search%20Algorithms/bresenham.py?line=53'>54</a>\u001b[0m \u001b[39melse\u001b[39;00m:\n",
      "\u001b[0;31mUnboundLocalError\u001b[0m: local variable 'mm' referenced before assignment"
     ]
    }
   ],
   "source": [
    "from bresenham import bresenham\n",
    "bresenham([1,4],[3,2])"
   ]
  }
 ],
 "metadata": {
  "interpreter": {
   "hash": "7adaf74a6292effdf4a8385abb6fffef80f5ecaccbd6ce58a35b905bb0f00a82"
  },
  "kernelspec": {
   "display_name": "Python 3.9.9 64-bit ('3.9.9')",
   "language": "python",
   "name": "python3"
  },
  "language_info": {
   "codemirror_mode": {
    "name": "ipython",
    "version": 3
   },
   "file_extension": ".py",
   "mimetype": "text/x-python",
   "name": "python",
   "nbconvert_exporter": "python",
   "pygments_lexer": "ipython3",
   "version": "3.9.9"
  },
  "orig_nbformat": 4
 },
 "nbformat": 4,
 "nbformat_minor": 2
}
